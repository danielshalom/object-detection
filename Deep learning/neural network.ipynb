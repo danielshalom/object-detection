{
 "cells": [
  {
   "cell_type": "code",
   "execution_count": 1,
   "metadata": {},
   "outputs": [
    {
     "name": "stderr",
     "output_type": "stream",
     "text": [
      "Using TensorFlow backend.\n"
     ]
    }
   ],
   "source": [
    "import matplotlib.pyplot as plt\n",
    "import numpy as np\n",
    "\n",
    "import keras\n",
    "from keras.models import Sequential\n",
    "from keras.layers import Dense, Dropout, Activation\n",
    "from keras.optimizers import SGD, RMSprop \n",
    "from keras.datasets import fashion_mnist"
   ]
  },
  {
   "cell_type": "code",
   "execution_count": 2,
   "metadata": {},
   "outputs": [
    {
     "name": "stdout",
     "output_type": "stream",
     "text": [
      "(60000, 28, 28)\n",
      "(60000,)\n"
     ]
    },
    {
     "data": {
      "image/png": "[encoded data removed]",
      "text/plain": [
       "<matplotlib.figure.Figure at 0x1914cb0a048>"
      ]
     },
     "metadata": {},
     "output_type": "display_data"
    }
   ],
   "source": [
    "(x_train, y_train), (x_test, y_test) = fashion_mnist.load_data()\n",
    "\n",
    "print(x_train.shape)\n",
    "print(y_train.shape)\n",
    "\n",
    "plt.imshow(x_train[1,:],'gray');\n",
    "plt.show()\n",
    "# # your code here...\n",
    "x_trn = np.float32(x_train.reshape((60000,28*28)))*(1/255)\n",
    "x_tst = np.float32(x_test.reshape(10000,28*28))*(1/255)\n",
    "\n",
    "y_trn_hot = keras.utils.to_categorical(y_train,num_classes = 10)\n",
    "y_tst_hot = keras.utils.to_categorical(y_test,num_classes = 10)\n",
    "\n",
    "M,N =x_tst.shape \n"
   ]
  },
  {
   "cell_type": "markdown",
   "metadata": {},
   "source": [
    "# Minimal layer"
   ]
  },
  {
   "cell_type": "code",
   "execution_count": 3,
   "metadata": {},
   "outputs": [
    {
     "name": "stdout",
     "output_type": "stream",
     "text": [
      "Epoch 1/10\n",
      "60000/60000 [==============================] - 1s 19us/step - loss: 0.6099 - acc: 0.7917\n",
      "Epoch 2/10\n",
      "60000/60000 [==============================] - 1s 16us/step - loss: 0.4568 - acc: 0.8440\n",
      "Epoch 3/10\n",
      "60000/60000 [==============================] - 1s 16us/step - loss: 0.4364 - acc: 0.8503\n",
      "Epoch 4/10\n",
      "60000/60000 [==============================] - 1s 18us/step - loss: 0.4251 - acc: 0.8546\n",
      "Epoch 5/10\n",
      "60000/60000 [==============================] - 1s 18us/step - loss: 0.4173 - acc: 0.8563\n",
      "Epoch 6/10\n",
      "60000/60000 [==============================] - 1s 16us/step - loss: 0.4123 - acc: 0.8577\n",
      "Epoch 7/10\n",
      "60000/60000 [==============================] - 1s 17us/step - loss: 0.4075 - acc: 0.8595\n",
      "Epoch 8/10\n",
      "60000/60000 [==============================] - 1s 14us/step - loss: 0.4045 - acc: 0.8610\n",
      "Epoch 9/10\n",
      "60000/60000 [==============================] - 1s 17us/step - loss: 0.3999 - acc: 0.8630\n",
      "Epoch 10/10\n",
      "60000/60000 [==============================] - 1s 16us/step - loss: 0.3990 - acc: 0.8621\n",
      "10000/10000 [==============================] - 0s 10us/step\n",
      "\n",
      "\n",
      "score : \n",
      " [0.44056069598197939, 0.84530000000000005]\n"
     ]
    }
   ],
   "source": [
    "M,N =x_tst.shape\n",
    "model = Sequential([Dense(10,input_shape = (N,)),Activation('softmax')])\n",
    "\n",
    "sgd = SGD(lr = 0.009,decay = 1e-9,momentum = 0.97,nesterov = True)\n",
    "model.compile(optimizer = sgd,loss = 'categorical_crossentropy',metrics = ['accuracy'])\n",
    "\n",
    "model.fit(x_trn,y_trn_hot,epochs = 10,batch_size = 128)\n",
    "score = model.evaluate(x_tst,y_tst_hot,batch_size = 128)\n",
    "\n",
    "print('\\n')\n",
    "print('score :','\\n',score)"
   ]
  },
  {
   "cell_type": "markdown",
   "metadata": {},
   "source": [
    "# one-hidden layer network"
   ]
  },
  {
   "cell_type": "code",
   "execution_count": 4,
   "metadata": {},
   "outputs": [
    {
     "name": "stdout",
     "output_type": "stream",
     "text": [
      "Epoch 1/10\n",
      "60000/60000 [==============================] - 1s 24us/step - loss: 0.5889 - acc: 0.7967\n",
      "Epoch 2/10\n",
      "60000/60000 [==============================] - 1s 25us/step - loss: 0.4014 - acc: 0.8576\n",
      "Epoch 3/10\n",
      "60000/60000 [==============================] - 1s 20us/step - loss: 0.3660 - acc: 0.8688\n",
      "Epoch 4/10\n",
      "60000/60000 [==============================] - 1s 22us/step - loss: 0.3409 - acc: 0.8777\n",
      "Epoch 5/10\n",
      "60000/60000 [==============================] - 1s 21us/step - loss: 0.3244 - acc: 0.8829\n",
      "Epoch 6/10\n",
      "60000/60000 [==============================] - 1s 23us/step - loss: 0.3127 - acc: 0.8859\n",
      "Epoch 7/10\n",
      "60000/60000 [==============================] - 1s 23us/step - loss: 0.3050 - acc: 0.8893\n",
      "Epoch 8/10\n",
      "60000/60000 [==============================] - 1s 20us/step - loss: 0.2915 - acc: 0.8936\n",
      "Epoch 9/10\n",
      "60000/60000 [==============================] - 2s 28us/step - loss: 0.2829 - acc: 0.8965\n",
      "Epoch 10/10\n",
      "60000/60000 [==============================] - 1s 21us/step - loss: 0.2811 - acc: 0.8962\n",
      "10000/10000 [==============================] - 0s 10us/step\n",
      "\n",
      "\n",
      "score : \n",
      " [0.36018953785896302, 0.87039999999999995]\n"
     ]
    }
   ],
   "source": [
    "model = Sequential()\n",
    "model.add(Dense(units = 64,activation = 'relu',input_dim = N))\n",
    "model.add(Dense(10,activation = 'softmax'))\n",
    "\n",
    "sgd = SGD(lr = 0.009,decay = 1e-9,momentum = 0.98,nesterov = True)\n",
    "model.compile(optimizer = sgd,loss = 'categorical_crossentropy',metrics = ['accuracy'])\n",
    "\n",
    "model.fit(x_trn,y_trn_hot,epochs = 10,batch_size = 128)\n",
    "score = model.evaluate(x_tst,y_tst_hot,batch_size = 128)\n",
    "\n",
    "print('\\n')\n",
    "print('score :','\\n',score)\n",
    "classes = model.predict(x_tst, batch_size=128)\n"
   ]
  },
  {
   "cell_type": "markdown",
   "metadata": {},
   "source": [
    "# Freestyle"
   ]
  },
  {
   "cell_type": "code",
   "execution_count": 6,
   "metadata": {},
   "outputs": [
    {
     "name": "stdout",
     "output_type": "stream",
     "text": [
      "Epoch 1/10\n",
      "60000/60000 [==============================] - 55s 920us/step - loss: 0.5683 - acc: 0.7990\n",
      "Epoch 2/10\n",
      "60000/60000 [==============================] - 61s 1ms/step - loss: 0.3681 - acc: 0.8657\n",
      "Epoch 3/10\n",
      "60000/60000 [==============================] - 54s 898us/step - loss: 0.3352 - acc: 0.8775\n",
      "Epoch 4/10\n",
      "60000/60000 [==============================] - 55s 919us/step - loss: 0.3132 - acc: 0.8844\n",
      "Epoch 5/10\n",
      "60000/60000 [==============================] - 53s 886us/step - loss: 0.2935 - acc: 0.8901\n",
      "Epoch 6/10\n",
      "60000/60000 [==============================] - 53s 888us/step - loss: 0.2811 - acc: 0.8952\n",
      "Epoch 7/10\n",
      "60000/60000 [==============================] - 53s 891us/step - loss: 0.2697 - acc: 0.8995\n",
      "Epoch 8/10\n",
      "60000/60000 [==============================] - 56s 930us/step - loss: 0.2606 - acc: 0.9030\n",
      "Epoch 9/10\n",
      "60000/60000 [==============================] - 62s 1ms/step - loss: 0.2498 - acc: 0.9062\n",
      "Epoch 10/10\n",
      "60000/60000 [==============================] - 60s 1ms/step - loss: 0.2413 - acc: 0.9080\n",
      "10000/10000 [==============================] - 2s 245us/step\n",
      "_________________________________________________________________\n",
      "Layer (type)                 Output Shape              Param #   \n",
      "=================================================================\n",
      "dense_14 (Dense)             (None, 1000)              785000    \n",
      "_________________________________________________________________\n",
      "dropout_5 (Dropout)          (None, 1000)              0         \n",
      "_________________________________________________________________\n",
      "dense_15 (Dense)             (None, 1000)              1001000   \n",
      "_________________________________________________________________\n",
      "dropout_6 (Dropout)          (None, 1000)              0         \n",
      "_________________________________________________________________\n",
      "dense_16 (Dense)             (None, 1000)              1001000   \n",
      "_________________________________________________________________\n",
      "dense_17 (Dense)             (None, 1000)              1001000   \n",
      "_________________________________________________________________\n",
      "dense_18 (Dense)             (None, 10)                10010     \n",
      "=================================================================\n",
      "Total params: 3,798,010\n",
      "Trainable params: 3,798,010\n",
      "Non-trainable params: 0\n",
      "_________________________________________________________________\n"
     ]
    }
   ],
   "source": [
    "model = Sequential( )\n",
    "\t\t\t\n",
    "model.add( Dense( units = 1000, activation = 'relu', input_dim = N ) )\n",
    "model.add( Dropout( 0.1 ) )\n",
    "model.add( Dense( units = 1000, activation = 'relu', input_dim = N ) )\n",
    "model.add( Dropout( 0.1 ) )\n",
    "model.add( Dense( units = 1000, activation = 'relu', input_dim = N ) )\n",
    "\t\t\t\n",
    "model.add( Dense( units = 1000, activation = 'relu', input_dim = N ) )\n",
    "\t\t\t\n",
    "model.add( Dense( 10, activation = 'softmax' ) )\n",
    "\t\t\t\n",
    "sgd = SGD( lr = 0.01, decay = 1e-9, momentum = 0.95, nesterov = True )\n",
    "model.compile( optimizer = sgd, loss = 'categorical_crossentropy', metrics = ['accuracy'] )\n",
    "\t\t\t\n",
    "model.fit( x_trn, y_trn_hot, epochs = 10, batch_size = 128 )\n",
    "score = model.evaluate( x_tst, y_tst_hot, batch_size = 128 )\n",
    "model.summary( )\n",
    "\t\t"
   ]
  },
  {
   "cell_type": "code",
   "execution_count": 7,
   "metadata": {},
   "outputs": [
    {
     "name": "stdout",
     "output_type": "stream",
     "text": [
      "\n",
      "\n",
      "score : \n",
      " [0.32914616014957426, 0.88339999999999996]\n"
     ]
    }
   ],
   "source": [
    "\n",
    "print('\\n')\n",
    "\n",
    "print('score :','\\n',score)\n"
   ]
  }
 ],
 "metadata": {
  "kernelspec": {
   "display_name": "Python 3",
   "language": "python",
   "name": "python3"
  },
  "language_info": {
   "codemirror_mode": {
    "name": "ipython",
    "version": 3
   },
   "file_extension": ".py",
   "mimetype": "text/x-python",
   "name": "python",
   "nbconvert_exporter": "python",
   "pygments_lexer": "ipython3",
   "version": "3.6.3"
  }
 },
 "nbformat": 4,
 "nbformat_minor": 1
}
